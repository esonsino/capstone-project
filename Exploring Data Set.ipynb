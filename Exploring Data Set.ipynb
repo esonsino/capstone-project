{
  "nbformat": 4,
  "nbformat_minor": 5,
  "metadata": {
    "selected_hardware_size": "small",
    "kernel_info": {
      "name": "python3"
    },
    "kernelspec": {
      "display_name": "Python 3.9",
      "identifier": "legacy",
      "language": "python",
      "language_version": "3.9",
      "name": "python3"
    }
  },
  "cells": [
    {
      "id": "d607dd3f",
      "cell_type": "code",
      "metadata": {
        "noteable": {
          "output_collection_id": "5e925d34-2c45-426b-8280-fe1b33a1bce3"
        },
        "ExecuteTime": {
          "end_time": "2023-12-09T23:06:57.895079+00:00",
          "start_time": "2023-12-09T23:06:57.740105+00:00"
        }
      },
      "execution_count": null,
      "source": "import pandas as pd",
      "outputs": []
    },
    {
      "id": "a8732a8f-adab-4fa6-a787-b4d3f416f238",
      "cell_type": "code",
      "metadata": {
        "jupyter": {
          "outputs_hidden": false,
          "source_hidden": false
        },
        "noteable": {
          "cell_type": "code",
          "output_collection_id": "3cedc4b3-bc4f-4e42-861a-177129b4dcee"
        },
        "ExecuteTime": {
          "end_time": "2023-12-09T23:08:14.802261+00:00",
          "start_time": "2023-12-09T23:08:14.581033+00:00"
        }
      },
      "execution_count": null,
      "source": "",
      "outputs": []
    }
  ]
}
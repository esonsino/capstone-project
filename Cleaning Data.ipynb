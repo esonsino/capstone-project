{
  "nbformat": 4,
  "nbformat_minor": 5,
  "metadata": {
    "selected_hardware_size": "small"
  },
  "cells": [
    {
      "id": "e897d178",
      "cell_type": "code",
      "metadata": {},
      "execution_count": null,
      "source": "# Removing leading and trailing spaces from the 'location' column\ndf['location'] = df['location'].str.strip()\n\n# Displaying the first few rows to verify the change\ndf['location'].head()\n",
      "outputs": []
    }
  ]
}
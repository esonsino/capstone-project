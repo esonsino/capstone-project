{
  "nbformat": 4,
  "nbformat_minor": 5,
  "metadata": {
    "selected_hardware_size": "small"
  },
  "cells": [
    {
      "id": "e897d178",
      "cell_type": "code",
      "metadata": {},
      "execution_count": null,
      "source": "# Removing leading and trailing spaces from the 'location' column\ndf['location'] = df['location'].str.strip()\n\n# Displaying the first few rows to verify the change\ndf['location'].head()\n",
      "outputs": []
    },
    {
      "id": "258030d9-a3e9-49b1-9d64-618375772e63",
      "cell_type": "code",
      "metadata": {
        "jupyter": {
          "outputs_hidden": false,
          "source_hidden": false
        },
        "noteable": {
          "cell_type": "code"
        }
      },
      "execution_count": null,
      "source": "# Renaming the 'via' column to 'job_platform' and removing the \"via \" prefix from its values\ndf = df.rename(columns={'via': 'job_platform'})\ndf['job_platform'] = df['job_platform'].str.replace('via ', '', regex=False)\n\n# Displaying the first few rows to verify the changes\ndf['job_platform'].head()\n",
      "outputs": []
    }
  ]
}
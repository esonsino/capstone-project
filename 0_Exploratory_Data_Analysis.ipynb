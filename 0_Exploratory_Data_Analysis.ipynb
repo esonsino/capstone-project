{
  "nbformat": 4,
  "nbformat_minor": 5,
  "metadata": {
    "selected_hardware_size": "small",
    "kernel_info": {
      "name": "python3"
    },
    "kernelspec": {
      "display_name": "Python 3.9",
      "identifier": "legacy",
      "language": "python",
      "language_version": "3.9",
      "name": "python3"
    },
    "noteable": {
      "db_connection": "@086f271403f94f338f5acce150cfab23"
    }
  },
  "cells": [
    {
      "id": "8dd545ea-ba98-462d-aba9-117bf8d96ff8",
      "cell_type": "markdown",
      "source": "# Exploratory Data Analysis",
      "metadata": {
        "noteable": {
          "cell_type": "markdown"
        }
      }
    },
    {
      "id": "119a28ac-ca65-40c0-b38d-61f52725804c",
      "cell_type": "markdown",
      "source": "## List Tables in Data Job Postings Data Connection\nUsing the `\\list` command to explore the tables available in the 'Data Job Postings' BigQuery data connection.",
      "metadata": {
        "noteable": {
          "cell_type": "markdown"
        }
      }
    },
    {
      "id": "89227ee2-265a-44bf-a1cc-29686538c687",
      "cell_type": "code",
      "metadata": {
        "noteable": {
          "assign_results_to": "sql_df_ygui",
          "cell_type": "sql",
          "db_connection": "@086f271403f94f338f5acce150cfab23",
          "output_collection_id": "7fc4cc9e-7433-4c91-8c59-1738941037a0"
        },
        "ExecuteTime": {
          "end_time": "2023-12-10T14:20:43.748975+00:00",
          "start_time": "2023-12-10T14:20:41.934598+00:00"
        },
        "datalink": {
          "5cb86e25-a5cb-4d22-9028-b412608b4175": {
            "applied_filters": [],
            "dataframe_info": {
              "default_index_used": true,
              "orig_num_cols": 3,
              "orig_num_rows": 1,
              "orig_size_bytes": 32,
              "truncated_num_cols": 3,
              "truncated_num_rows": 1,
              "truncated_size_bytes": 32,
              "truncated_string_columns": []
            },
            "display_id": "5cb86e25-a5cb-4d22-9028-b412608b4175",
            "dx_settings": {
              "ALLOW_NOTEABLE_ATTRS": true,
              "COLUMN_SAMPLING_METHOD": "outer",
              "DB_LOCATION": ":memory:",
              "DEV_MODE": false,
              "DISPLAY_MAX_COLUMNS": 100,
              "DISPLAY_MAX_ROWS": 50000,
              "DISPLAY_MODE": "simple",
              "ENABLE_ASSIGNMENT": true,
              "ENABLE_DATALINK": true,
              "FLATTEN_COLUMN_VALUES": true,
              "FLATTEN_INDEX_VALUES": false,
              "GENERATE_DEX_METADATA": false,
              "HTML_TABLE_SCHEMA": false,
              "LOG_LEVEL": 30,
              "MAX_RENDER_SIZE_BYTES": 104857600,
              "MAX_STRING_LENGTH": 250,
              "NUM_PAST_SAMPLES_TRACKED": 3,
              "RANDOM_STATE": 12648430,
              "RESET_INDEX_VALUES": false,
              "ROW_SAMPLING_METHOD": "random",
              "SAMPLING_FACTOR": 0.1,
              "SAMPLING_METHOD": "random",
              "STRINGIFY_COLUMN_VALUES": true,
              "STRINGIFY_INDEX_VALUES": false
            },
            "sample_history": [],
            "sampling_time": "2023-12-10T14:20:43.587237",
            "user_variable_name": null,
            "variable_name": "unk_dataframe_f21aa2538d7f44f1a7495d59392f975a"
          }
        },
        "scrolled": true
      },
      "execution_count": null,
      "source": "\\list",
      "outputs": []
    },
    {
      "id": "2fc47db3-1554-4e71-9f09-c1522f51a9fa",
      "cell_type": "code",
      "metadata": {
        "noteable": {
          "assign_results_to": "sql_df_1",
          "cell_type": "sql",
          "db_connection": "@086f271403f94f338f5acce150cfab23",
          "output_collection_id": "b273d634-a9f2-439a-9bcf-516214b5d6ad"
        },
        "ExecuteTime": {
          "end_time": "2023-12-10T14:32:56.196523+00:00",
          "start_time": "2023-12-10T14:32:52.649004+00:00"
        },
        "datalink": {
          "2461896f-9c77-41e5-8514-107bda587773": {
            "applied_filters": [],
            "dataframe_info": {
              "default_index_used": true,
              "orig_num_cols": 45,
              "orig_num_rows": 100,
              "orig_size_bytes": 36800,
              "truncated_num_cols": 45,
              "truncated_num_rows": 100,
              "truncated_size_bytes": 36800,
              "truncated_string_columns": [
                "job_id",
                "job_description",
                "job_highlights_qualifications",
                "job_highlights_responsibilities",
                "job_highlights_benefits",
                "keywords_all"
              ]
            },
            "display_id": "2461896f-9c77-41e5-8514-107bda587773",
            "dx_settings": {
              "ALLOW_NOTEABLE_ATTRS": true,
              "COLUMN_SAMPLING_METHOD": "outer",
              "DB_LOCATION": ":memory:",
              "DEV_MODE": false,
              "DISPLAY_MAX_COLUMNS": 100,
              "DISPLAY_MAX_ROWS": 50000,
              "DISPLAY_MODE": "simple",
              "ENABLE_ASSIGNMENT": true,
              "ENABLE_DATALINK": true,
              "FLATTEN_COLUMN_VALUES": true,
              "FLATTEN_INDEX_VALUES": false,
              "GENERATE_DEX_METADATA": false,
              "HTML_TABLE_SCHEMA": false,
              "LOG_LEVEL": 30,
              "MAX_RENDER_SIZE_BYTES": 104857600,
              "MAX_STRING_LENGTH": 250,
              "NUM_PAST_SAMPLES_TRACKED": 3,
              "RANDOM_STATE": 12648430,
              "RESET_INDEX_VALUES": false,
              "ROW_SAMPLING_METHOD": "random",
              "SAMPLING_FACTOR": 0.1,
              "SAMPLING_METHOD": "random",
              "STRINGIFY_COLUMN_VALUES": true,
              "STRINGIFY_INDEX_VALUES": false
            },
            "sample_history": [],
            "sampling_time": "2023-12-10T14:32:56.012335",
            "user_variable_name": "sql_df_1",
            "variable_name": "sql_df_1"
          }
        },
        "scrolled": true
      },
      "execution_count": null,
      "source": "SELECT * FROM data_nerd_jobs LIMIT 100",
      "outputs": []
    },
    {
      "id": "601c1551-9d47-4ac8-a676-8f66bf449eef",
      "cell_type": "markdown",
      "source": "## Basic Statistics\n\nRunning a SQL query to fetch some basic statistics",
      "metadata": {
        "noteable": {
          "cell_type": "markdown"
        }
      }
    },
    {
      "id": "c6c9cc25-eeaf-41c9-b32b-97a763f83f50",
      "cell_type": "code",
      "metadata": {
        "noteable": {
          "assign_results_to": "sql_df_2",
          "cell_type": "sql",
          "db_connection": "@086f271403f94f338f5acce150cfab23",
          "output_collection_id": "d7c9bb1b-f22c-4561-b315-85a4fe75f328"
        },
        "ExecuteTime": {
          "end_time": "2023-12-10T14:43:43.186597+00:00",
          "start_time": "2023-12-10T14:43:38.792444+00:00"
        },
        "datalink": {
          "b00c9521-e4f3-4513-b824-90c3ccb1ab14": {
            "applied_filters": [],
            "dataframe_info": {
              "default_index_used": true,
              "orig_num_cols": 2,
              "orig_num_rows": 1,
              "orig_size_bytes": 24,
              "truncated_num_cols": 2,
              "truncated_num_rows": 1,
              "truncated_size_bytes": 24,
              "truncated_string_columns": []
            },
            "display_id": "b00c9521-e4f3-4513-b824-90c3ccb1ab14",
            "dx_settings": {
              "ALLOW_NOTEABLE_ATTRS": true,
              "COLUMN_SAMPLING_METHOD": "outer",
              "DB_LOCATION": ":memory:",
              "DEV_MODE": false,
              "DISPLAY_MAX_COLUMNS": 100,
              "DISPLAY_MAX_ROWS": 50000,
              "DISPLAY_MODE": "simple",
              "ENABLE_ASSIGNMENT": true,
              "ENABLE_DATALINK": true,
              "FLATTEN_COLUMN_VALUES": true,
              "FLATTEN_INDEX_VALUES": false,
              "GENERATE_DEX_METADATA": false,
              "HTML_TABLE_SCHEMA": false,
              "LOG_LEVEL": 30,
              "MAX_RENDER_SIZE_BYTES": 104857600,
              "MAX_STRING_LENGTH": 250,
              "NUM_PAST_SAMPLES_TRACKED": 3,
              "RANDOM_STATE": 12648430,
              "RESET_INDEX_VALUES": false,
              "ROW_SAMPLING_METHOD": "random",
              "SAMPLING_FACTOR": 0.1,
              "SAMPLING_METHOD": "random",
              "STRINGIFY_COLUMN_VALUES": true,
              "STRINGIFY_INDEX_VALUES": false
            },
            "sample_history": [],
            "sampling_time": "2023-12-10T14:43:43.028242",
            "user_variable_name": "sql_df_2",
            "variable_name": "sql_df_2"
          }
        }
      },
      "execution_count": null,
      "source": "SELECT COUNT(*) as total_rows,\nCOUNT(DISTINCT job_id) as unique_jobs\nFROM data_nerd_jobs",
      "outputs": []
    },
    {
      "id": "04f1ee06-4802-4fb5-aa80-478ac5360cab",
      "cell_type": "markdown",
      "source": "## Column Information\nProviding details about each column, including their purpose and data type.",
      "metadata": {
        "noteable": {
          "cell_type": "markdown"
        }
      }
    },
    {
      "id": "f326c9cf-c36b-46c4-af9c-6ba7f9f1b842",
      "cell_type": "code",
      "metadata": {
        "noteable": {
          "assign_results_to": "sql_df_yrll",
          "cell_type": "sql",
          "db_connection": "@086f271403f94f338f5acce150cfab23",
          "output_collection_id": "d33eab48-b53d-4ef3-9579-a5812040969f"
        },
        "ExecuteTime": {
          "end_time": "2023-12-10T14:47:26.860283+00:00",
          "start_time": "2023-12-10T14:47:25.284536+00:00"
        },
        "datalink": {
          "7333099b-1cfd-472b-8555-c392656ae4fd": {
            "applied_filters": [],
            "dataframe_info": {
              "default_index_used": true,
              "orig_num_cols": 2,
              "orig_num_rows": 45,
              "orig_size_bytes": 1080,
              "truncated_num_cols": 2,
              "truncated_num_rows": 45,
              "truncated_size_bytes": 1080,
              "truncated_string_columns": []
            },
            "display_id": "7333099b-1cfd-472b-8555-c392656ae4fd",
            "dx_settings": {
              "ALLOW_NOTEABLE_ATTRS": true,
              "COLUMN_SAMPLING_METHOD": "outer",
              "DB_LOCATION": ":memory:",
              "DEV_MODE": false,
              "DISPLAY_MAX_COLUMNS": 100,
              "DISPLAY_MAX_ROWS": 50000,
              "DISPLAY_MODE": "simple",
              "ENABLE_ASSIGNMENT": true,
              "ENABLE_DATALINK": true,
              "FLATTEN_COLUMN_VALUES": true,
              "FLATTEN_INDEX_VALUES": false,
              "GENERATE_DEX_METADATA": false,
              "HTML_TABLE_SCHEMA": false,
              "LOG_LEVEL": 30,
              "MAX_RENDER_SIZE_BYTES": 104857600,
              "MAX_STRING_LENGTH": 250,
              "NUM_PAST_SAMPLES_TRACKED": 3,
              "RANDOM_STATE": 12648430,
              "RESET_INDEX_VALUES": false,
              "ROW_SAMPLING_METHOD": "random",
              "SAMPLING_FACTOR": 0.1,
              "SAMPLING_METHOD": "random",
              "STRINGIFY_COLUMN_VALUES": true,
              "STRINGIFY_INDEX_VALUES": false
            },
            "sample_history": [],
            "sampling_time": "2023-12-10T14:47:26.702574",
            "user_variable_name": "sql_df_yrll",
            "variable_name": "sql_df_yrll"
          }
        }
      },
      "execution_count": null,
      "source": "SELECT column_name, data_type\nFROM INFORMATION_SCHEMA.COLUMNS\nWHERE table_name = 'data_nerd_jobs'\nAND table_schema = 'public_job_listings'",
      "outputs": []
    },
    {
      "id": "a9fb8300-a0da-4304-9530-a9a4ed2e93f2",
      "cell_type": "markdown",
      "source": "## Bar Graph of 'job_title_final' Column\nCreating a bar graph to visualize the frequency of the top 10 job title in the 'job_title_final' column.",
      "metadata": {
        "noteable": {
          "cell_type": "markdown"
        }
      }
    },
    {
      "id": "34683e57-3249-4941-8c99-ea627fbdb39a",
      "cell_type": "code",
      "metadata": {
        "noteable": {
          "assign_results_to": "top_job_titles",
          "cell_type": "sql",
          "db_connection": "@086f271403f94f338f5acce150cfab23",
          "output_collection_id": "5a9fb3ed-a940-4f9b-ad2c-72b203714b37"
        },
        "ExecuteTime": {
          "end_time": "2023-12-10T15:18:33.723730+00:00",
          "start_time": "2023-12-10T15:18:31.644549+00:00"
        },
        "datalink": {
          "c26e3537-1dfd-409c-9364-6eea4792395d": {
            "applied_filters": [],
            "dataframe_info": {
              "default_index_used": true,
              "orig_num_cols": 2,
              "orig_num_rows": 10,
              "orig_size_bytes": 240,
              "truncated_num_cols": 2,
              "truncated_num_rows": 10,
              "truncated_size_bytes": 240,
              "truncated_string_columns": []
            },
            "display_id": "c26e3537-1dfd-409c-9364-6eea4792395d",
            "dx_settings": {
              "ALLOW_NOTEABLE_ATTRS": true,
              "COLUMN_SAMPLING_METHOD": "outer",
              "DB_LOCATION": ":memory:",
              "DEV_MODE": false,
              "DISPLAY_MAX_COLUMNS": 100,
              "DISPLAY_MAX_ROWS": 50000,
              "DISPLAY_MODE": "simple",
              "ENABLE_ASSIGNMENT": true,
              "ENABLE_DATALINK": true,
              "FLATTEN_COLUMN_VALUES": true,
              "FLATTEN_INDEX_VALUES": false,
              "GENERATE_DEX_METADATA": false,
              "HTML_TABLE_SCHEMA": false,
              "LOG_LEVEL": 30,
              "MAX_RENDER_SIZE_BYTES": 104857600,
              "MAX_STRING_LENGTH": 250,
              "NUM_PAST_SAMPLES_TRACKED": 3,
              "RANDOM_STATE": 12648430,
              "RESET_INDEX_VALUES": false,
              "ROW_SAMPLING_METHOD": "random",
              "SAMPLING_FACTOR": 0.1,
              "SAMPLING_METHOD": "random",
              "STRINGIFY_COLUMN_VALUES": true,
              "STRINGIFY_INDEX_VALUES": false
            },
            "sample_history": [],
            "sampling_time": "2023-12-10T15:18:33.560036",
            "user_variable_name": "sql_df_jymk",
            "variable_name": "sql_df_jymk"
          }
        },
        "scrolled": false
      },
      "execution_count": null,
      "source": "-- Querying the data with SQL\nSELECT job_title_final, COUNT(*) as job_count\nFROM .data_nerd_jobs\nGROUP BY job_title_final\nORDER BY job_count DESC\nLIMIT 10;",
      "outputs": []
    },
    {
      "id": "26ba6e52-001b-4157-a626-5651fc7fcd1d",
      "cell_type": "code",
      "metadata": {
        "noteable": {
          "cell_type": "code",
          "output_collection_id": "552dff58-65f4-4a41-85e5-aae7a858e2a8"
        },
        "ExecuteTime": {
          "end_time": "2023-12-10T15:23:36.563189+00:00",
          "start_time": "2023-12-10T15:23:36.163218+00:00"
        }
      },
      "execution_count": null,
      "source": "# Ploting the graph with Python\n\nimport matplotlib.pyplot as plt\nimport pandas as pd\n\n# Converting SQL results to a DataFrame\ndf = pd.DataFrame(top_job_titles)\n\nplt.figure(figsize=(10,6))\nplt.barh(df['job_title_final'], df['job_count'])\nplt.xlabel('Number of Job Postings')\nplt.ylabel('Job Title')\nplt.title('Top 10 Job Titles in Data Jobs')\nplt.gca().invert_yaxis()  # Invert y-axis for horizontal bar chart\nplt.show()",
      "outputs": []
    },
    {
      "id": "414869ef-316d-4b05-b636-343cf25f4aa9",
      "cell_type": "markdown",
      "source": "## Bar Graph of job_via Column\nCreating a bar graph to visualize the top 10 sources in the 'job_via' column.",
      "metadata": {
        "noteable": {
          "cell_type": "markdown"
        }
      }
    },
    {
      "id": "00e3807c-32db-4ef9-95ec-0f26573ca90e",
      "cell_type": "code",
      "metadata": {
        "noteable": {
          "assign_results_to": "top_job_platforms",
          "cell_type": "sql",
          "db_connection": "@086f271403f94f338f5acce150cfab23",
          "output_collection_id": "439a0c18-baf1-4191-98a7-a12da3ee22e4"
        },
        "ExecuteTime": {
          "end_time": "2023-12-10T15:30:49.092174+00:00",
          "start_time": "2023-12-10T15:30:47.513254+00:00"
        },
        "datalink": {
          "54653e33-5d04-45b7-87aa-3743f9d15f97": {
            "applied_filters": [],
            "dataframe_info": {
              "default_index_used": true,
              "orig_num_cols": 2,
              "orig_num_rows": 10,
              "orig_size_bytes": 240,
              "truncated_num_cols": 2,
              "truncated_num_rows": 10,
              "truncated_size_bytes": 240,
              "truncated_string_columns": []
            },
            "display_id": "54653e33-5d04-45b7-87aa-3743f9d15f97",
            "dx_settings": {
              "ALLOW_NOTEABLE_ATTRS": true,
              "COLUMN_SAMPLING_METHOD": "outer",
              "DB_LOCATION": ":memory:",
              "DEV_MODE": false,
              "DISPLAY_MAX_COLUMNS": 100,
              "DISPLAY_MAX_ROWS": 50000,
              "DISPLAY_MODE": "simple",
              "ENABLE_ASSIGNMENT": true,
              "ENABLE_DATALINK": true,
              "FLATTEN_COLUMN_VALUES": true,
              "FLATTEN_INDEX_VALUES": false,
              "GENERATE_DEX_METADATA": false,
              "HTML_TABLE_SCHEMA": false,
              "LOG_LEVEL": 30,
              "MAX_RENDER_SIZE_BYTES": 104857600,
              "MAX_STRING_LENGTH": 250,
              "NUM_PAST_SAMPLES_TRACKED": 3,
              "RANDOM_STATE": 12648430,
              "RESET_INDEX_VALUES": false,
              "ROW_SAMPLING_METHOD": "random",
              "SAMPLING_FACTOR": 0.1,
              "SAMPLING_METHOD": "random",
              "STRINGIFY_COLUMN_VALUES": true,
              "STRINGIFY_INDEX_VALUES": false
            },
            "sample_history": [],
            "sampling_time": "2023-12-10T15:30:48.930185",
            "user_variable_name": "sql_df_3",
            "variable_name": "sql_df_3"
          }
        }
      },
      "execution_count": null,
      "source": "SELECT job_via, COUNT(*) as count FROM data_nerd_jobs \nGROUP BY job_via \nORDER BY count DESC LIMIT 10",
      "outputs": []
    },
    {
      "id": "67ce0526-c57f-4e91-86ee-e008382cd737",
      "cell_type": "code",
      "metadata": {
        "noteable": {
          "cell_type": "python",
          "output_collection_id": "e51b9218-7156-4831-9d52-3adba03c7cd1"
        },
        "ExecuteTime": {
          "end_time": "2023-12-10T15:35:32.615127+00:00",
          "start_time": "2023-12-10T15:35:32.213630+00:00"
        }
      },
      "execution_count": null,
      "source": "# Converting SQL results to a DataFrame\ndf = pd.DataFrame(top_job_platforms)\n\nplt.figure(figsize=(10,6))\nplt.barh(df['job_via'], df['count'])\nplt.xlabel('Number of Job Postings')\nplt.ylabel('Job Platform')\nplt.title('Top 10 Job Platforms in Data Jobs')\nplt.gca().invert_yaxis()  # Invert y-axis for horizontal bar chart\nplt.show()",
      "outputs": []
    },
    {
      "id": "edeb6340-4289-4a46-b714-b21ec9d7128f",
      "cell_type": "code",
      "metadata": {
        "jupyter": {
          "outputs_hidden": false,
          "source_hidden": false
        },
        "noteable": {
          "cell_type": "code",
          "output_collection_id": "8ba90d20-1f99-4bf4-896e-90b3cf4762a5"
        },
        "ExecuteTime": null
      },
      "execution_count": null,
      "source": "# Converting SQL results to a DataFrame\ndf = pd.DataFrame(top_job_platforms)\n\nplt.figure(figsize=(10,6))\nplt.barh(df['job_via'], df['count'])\nplt.xlabel('Number of Job Postings')\nplt.ylabel('Job Platform')\nplt.title('Top 10 Job Platforms in Data Jobs')\nplt.gca().invert_yaxis()  # Invert y-axis for horizontal bar chart\nplt.show()",
      "outputs": []
    },
    {
      "id": "ee07b15b-acd8-4f2d-a323-de7507cadde7",
      "cell_type": "code",
      "metadata": {
        "jupyter": {
          "outputs_hidden": false,
          "source_hidden": false
        },
        "noteable": {
          "cell_type": "code"
        }
      },
      "execution_count": null,
      "source": "",
      "outputs": []
    }
  ]
}
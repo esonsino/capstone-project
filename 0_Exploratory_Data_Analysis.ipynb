{
  "nbformat": 4,
  "nbformat_minor": 5,
  "metadata": {
    "selected_hardware_size": "small",
    "kernel_info": {
      "name": "python3"
    },
    "kernelspec": {
      "display_name": "Python 3.9",
      "identifier": "legacy",
      "language": "python",
      "language_version": "3.9",
      "name": "python3"
    },
    "noteable": {
      "db_connection": "@086f271403f94f338f5acce150cfab23"
    }
  },
  "cells": [
    {
      "id": "8dd545ea-ba98-462d-aba9-117bf8d96ff8",
      "cell_type": "markdown",
      "source": "# Exploratory Data Analysis",
      "metadata": {
        "noteable": {
          "cell_type": "markdown"
        }
      }
    },
    {
      "id": "119a28ac-ca65-40c0-b38d-61f52725804c",
      "cell_type": "markdown",
      "source": "## List Tables in Data Job Postings Data Connection\nUsing the `\\list` command to explore the tables available in the 'Data Job Postings' BigQuery data connection.",
      "metadata": {
        "noteable": {
          "cell_type": "markdown"
        }
      }
    },
    {
      "id": "89227ee2-265a-44bf-a1cc-29686538c687",
      "cell_type": "code",
      "metadata": {
        "noteable": {
          "assign_results_to": "sql_df_ygui",
          "cell_type": "sql",
          "db_connection": "@086f271403f94f338f5acce150cfab23",
          "output_collection_id": "7fc4cc9e-7433-4c91-8c59-1738941037a0"
        },
        "ExecuteTime": {
          "end_time": "2023-12-10T14:20:43.748975+00:00",
          "start_time": "2023-12-10T14:20:41.934598+00:00"
        },
        "datalink": {
          "5cb86e25-a5cb-4d22-9028-b412608b4175": {
            "applied_filters": [],
            "dataframe_info": {
              "default_index_used": true,
              "orig_num_cols": 3,
              "orig_num_rows": 1,
              "orig_size_bytes": 32,
              "truncated_num_cols": 3,
              "truncated_num_rows": 1,
              "truncated_size_bytes": 32,
              "truncated_string_columns": []
            },
            "display_id": "5cb86e25-a5cb-4d22-9028-b412608b4175",
            "dx_settings": {
              "ALLOW_NOTEABLE_ATTRS": true,
              "COLUMN_SAMPLING_METHOD": "outer",
              "DB_LOCATION": ":memory:",
              "DEV_MODE": false,
              "DISPLAY_MAX_COLUMNS": 100,
              "DISPLAY_MAX_ROWS": 50000,
              "DISPLAY_MODE": "simple",
              "ENABLE_ASSIGNMENT": true,
              "ENABLE_DATALINK": true,
              "FLATTEN_COLUMN_VALUES": true,
              "FLATTEN_INDEX_VALUES": false,
              "GENERATE_DEX_METADATA": false,
              "HTML_TABLE_SCHEMA": false,
              "LOG_LEVEL": 30,
              "MAX_RENDER_SIZE_BYTES": 104857600,
              "MAX_STRING_LENGTH": 250,
              "NUM_PAST_SAMPLES_TRACKED": 3,
              "RANDOM_STATE": 12648430,
              "RESET_INDEX_VALUES": false,
              "ROW_SAMPLING_METHOD": "random",
              "SAMPLING_FACTOR": 0.1,
              "SAMPLING_METHOD": "random",
              "STRINGIFY_COLUMN_VALUES": true,
              "STRINGIFY_INDEX_VALUES": false
            },
            "sample_history": [],
            "sampling_time": "2023-12-10T14:20:43.587237",
            "user_variable_name": null,
            "variable_name": "unk_dataframe_f21aa2538d7f44f1a7495d59392f975a"
          }
        },
        "scrolled": true
      },
      "execution_count": null,
      "source": "\\list",
      "outputs": []
    },
    {
      "id": "2fc47db3-1554-4e71-9f09-c1522f51a9fa",
      "cell_type": "code",
      "metadata": {
        "noteable": {
          "assign_results_to": "sql_df_1",
          "cell_type": "sql",
          "db_connection": "@086f271403f94f338f5acce150cfab23",
          "output_collection_id": "b273d634-a9f2-439a-9bcf-516214b5d6ad"
        },
        "ExecuteTime": {
          "end_time": "2023-12-10T14:32:56.196523+00:00",
          "start_time": "2023-12-10T14:32:52.649004+00:00"
        },
        "datalink": {
          "2461896f-9c77-41e5-8514-107bda587773": {
            "applied_filters": [],
            "dataframe_info": {
              "default_index_used": true,
              "orig_num_cols": 45,
              "orig_num_rows": 100,
              "orig_size_bytes": 36800,
              "truncated_num_cols": 45,
              "truncated_num_rows": 100,
              "truncated_size_bytes": 36800,
              "truncated_string_columns": [
                "job_id",
                "job_description",
                "job_highlights_qualifications",
                "job_highlights_responsibilities",
                "job_highlights_benefits",
                "keywords_all"
              ]
            },
            "display_id": "2461896f-9c77-41e5-8514-107bda587773",
            "dx_settings": {
              "ALLOW_NOTEABLE_ATTRS": true,
              "COLUMN_SAMPLING_METHOD": "outer",
              "DB_LOCATION": ":memory:",
              "DEV_MODE": false,
              "DISPLAY_MAX_COLUMNS": 100,
              "DISPLAY_MAX_ROWS": 50000,
              "DISPLAY_MODE": "simple",
              "ENABLE_ASSIGNMENT": true,
              "ENABLE_DATALINK": true,
              "FLATTEN_COLUMN_VALUES": true,
              "FLATTEN_INDEX_VALUES": false,
              "GENERATE_DEX_METADATA": false,
              "HTML_TABLE_SCHEMA": false,
              "LOG_LEVEL": 30,
              "MAX_RENDER_SIZE_BYTES": 104857600,
              "MAX_STRING_LENGTH": 250,
              "NUM_PAST_SAMPLES_TRACKED": 3,
              "RANDOM_STATE": 12648430,
              "RESET_INDEX_VALUES": false,
              "ROW_SAMPLING_METHOD": "random",
              "SAMPLING_FACTOR": 0.1,
              "SAMPLING_METHOD": "random",
              "STRINGIFY_COLUMN_VALUES": true,
              "STRINGIFY_INDEX_VALUES": false
            },
            "sample_history": [],
            "sampling_time": "2023-12-10T14:32:56.012335",
            "user_variable_name": "sql_df_1",
            "variable_name": "sql_df_1"
          }
        },
        "scrolled": true
      },
      "execution_count": null,
      "source": "SELECT * FROM data_nerd_jobs LIMIT 100",
      "outputs": []
    },
    {
      "id": "601c1551-9d47-4ac8-a676-8f66bf449eef",
      "cell_type": "code",
      "metadata": {
        "noteable": {
          "assign_results_to": "sql_df_2",
          "cell_type": "sql",
          "db_connection": "@086f271403f94f338f5acce150cfab23"
        }
      },
      "execution_count": null,
      "source": "",
      "outputs": []
    }
  ]
}
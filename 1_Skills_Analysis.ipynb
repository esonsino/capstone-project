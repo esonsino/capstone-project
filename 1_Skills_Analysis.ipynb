{
  "nbformat": 4,
  "nbformat_minor": 5,
  "metadata": {
    "kernel_info": {
      "name": "python3.9-noteable"
    },
    "kernelspec": {
      "display_name": "Python 3.9 (Noteable)",
      "identifier": "noteable",
      "language": "python",
      "language_version": "3.9",
      "name": "python3.9-noteable"
    },
    "selected_hardware_size": "small",
    "noteable": {
      "db_connection": "@086f271403f94f338f5acce150cfab23"
    }
  },
  "cells": [
    {
      "id": "7fbfa690-c35a-4605-8825-2983348e9dc2",
      "cell_type": "markdown",
      "source": "# Most Popular Data Skills",
      "metadata": {
        "noteable": {
          "cell_type": "markdown"
        }
      }
    },
    {
      "id": "4294d4f4",
      "cell_type": "code",
      "metadata": {
        "noteable": {
          "assign_results_to": "sql_df_1",
          "cell_type": "sql",
          "db_connection": "@086f271403f94f338f5acce150cfab23",
          "output_collection_id": "7d11af87-15fc-4736-aa97-2d14e5e18c16"
        },
        "ExecuteTime": {
          "end_time": "2023-12-10T17:47:13.349664+00:00",
          "start_time": "2023-12-10T17:47:11.696445+00:00"
        },
        "datalink": {
          "ba7266af-77f2-4eeb-8c81-c6371eebd8b7": {
            "applied_filters": [],
            "dataframe_info": {
              "default_index_used": true,
              "orig_num_cols": 3,
              "orig_num_rows": 1,
              "orig_size_bytes": 32,
              "truncated_num_cols": 3,
              "truncated_num_rows": 1,
              "truncated_size_bytes": 32,
              "truncated_string_columns": []
            },
            "display_id": "ba7266af-77f2-4eeb-8c81-c6371eebd8b7",
            "dx_settings": {
              "ALLOW_NOTEABLE_ATTRS": true,
              "COLUMN_SAMPLING_METHOD": "outer",
              "DB_LOCATION": ":memory:",
              "DEV_MODE": false,
              "DISPLAY_MAX_COLUMNS": 100,
              "DISPLAY_MAX_ROWS": 50000,
              "DISPLAY_MODE": "simple",
              "ENABLE_ASSIGNMENT": true,
              "ENABLE_DATALINK": true,
              "FLATTEN_COLUMN_VALUES": true,
              "FLATTEN_INDEX_VALUES": false,
              "GENERATE_DEX_METADATA": false,
              "HTML_TABLE_SCHEMA": false,
              "LOG_LEVEL": 30,
              "MAX_RENDER_SIZE_BYTES": 104857600,
              "MAX_STRING_LENGTH": 250,
              "NUM_PAST_SAMPLES_TRACKED": 3,
              "RANDOM_STATE": 12648430,
              "RESET_INDEX_VALUES": false,
              "ROW_SAMPLING_METHOD": "random",
              "SAMPLING_FACTOR": 0.1,
              "SAMPLING_METHOD": "random",
              "STRINGIFY_COLUMN_VALUES": true,
              "STRINGIFY_INDEX_VALUES": false
            },
            "sample_history": [],
            "sampling_time": "2023-12-10T17:47:13.186867",
            "user_variable_name": null,
            "variable_name": "unk_dataframe_4f82f9c1c7f747829924780922821eee"
          }
        },
        "dx": {
          "dashboard": {
            "multiViews": []
          },
          "fieldMetadata": {},
          "updated": 1702230435816,
          "views": [
            {
              "annotationRules": [],
              "chart": {},
              "chartMode": "grid",
              "confoRules": [],
              "decoration": {
                "footer": "",
                "subtitle": "",
                "title": "Table"
              },
              "facets": [],
              "filterSettings": {
                "SHOW_FILTER_PANEL": true,
                "filters": []
              },
              "id": "first-view",
              "isDefault": true,
              "type": "public",
              "userID": ""
            },
            {
              "annotationRules": [],
              "chart": {
                "tableSparklines": false
              },
              "chartMode": "grid",
              "confoRules": [],
              "decoration": {
                "footer": "",
                "subtitle": "",
                "title": "Table"
              },
              "facets": [],
              "filterSettings": {
                "SHOW_FILTER_PANEL": true,
                "filters": []
              },
              "id": "first-view",
              "isDefault": true,
              "isTransitory": true,
              "type": "public",
              "userID": ""
            }
          ]
        }
      },
      "execution_count": null,
      "source": "\\list",
      "outputs": []
    },
    {
      "id": "05f4f341-0f1d-44d7-8535-e58e384d4327",
      "cell_type": "code",
      "metadata": {
        "noteable": {
          "assign_results_to": "sql_df_4",
          "cell_type": "sql",
          "db_connection": "@086f271403f94f338f5acce150cfab23",
          "output_collection_id": "74430bd4-0928-40c3-b5e3-5cfd1247c706"
        },
        "ExecuteTime": {
          "end_time": "2023-12-10T17:51:16.172572+00:00",
          "start_time": "2023-12-10T17:51:14.584666+00:00"
        },
        "datalink": {
          "cd230d36-d1c8-481b-a3f1-a8c776829ecb": {
            "applied_filters": [],
            "dataframe_info": {
              "default_index_used": true,
              "orig_num_cols": 45,
              "orig_num_rows": 5,
              "orig_size_bytes": 1805,
              "truncated_num_cols": 45,
              "truncated_num_rows": 5,
              "truncated_size_bytes": 1805,
              "truncated_string_columns": [
                "job_id",
                "job_description",
                "job_highlights_qualifications",
                "job_highlights_responsibilities",
                "job_highlights_benefits",
                "keywords_all"
              ]
            },
            "display_id": "cd230d36-d1c8-481b-a3f1-a8c776829ecb",
            "dx_settings": {
              "ALLOW_NOTEABLE_ATTRS": true,
              "COLUMN_SAMPLING_METHOD": "outer",
              "DB_LOCATION": ":memory:",
              "DEV_MODE": false,
              "DISPLAY_MAX_COLUMNS": 100,
              "DISPLAY_MAX_ROWS": 50000,
              "DISPLAY_MODE": "simple",
              "ENABLE_ASSIGNMENT": true,
              "ENABLE_DATALINK": true,
              "FLATTEN_COLUMN_VALUES": true,
              "FLATTEN_INDEX_VALUES": false,
              "GENERATE_DEX_METADATA": false,
              "HTML_TABLE_SCHEMA": false,
              "LOG_LEVEL": 30,
              "MAX_RENDER_SIZE_BYTES": 104857600,
              "MAX_STRING_LENGTH": 250,
              "NUM_PAST_SAMPLES_TRACKED": 3,
              "RANDOM_STATE": 12648430,
              "RESET_INDEX_VALUES": false,
              "ROW_SAMPLING_METHOD": "random",
              "SAMPLING_FACTOR": 0.1,
              "SAMPLING_METHOD": "random",
              "STRINGIFY_COLUMN_VALUES": true,
              "STRINGIFY_INDEX_VALUES": false
            },
            "sample_history": [],
            "sampling_time": "2023-12-10T17:51:15.996761",
            "user_variable_name": "sql_df_4",
            "variable_name": "sql_df_4"
          }
        },
        "dx": {
          "dashboard": {
            "multiViews": []
          },
          "fieldMetadata": {},
          "updated": 1702230679974,
          "views": [
            {
              "annotationRules": [],
              "chart": {},
              "chartMode": "grid",
              "confoRules": [],
              "decoration": {
                "footer": "",
                "subtitle": "",
                "title": "Table"
              },
              "facets": [],
              "filterSettings": {
                "SHOW_FILTER_PANEL": true,
                "filters": []
              },
              "id": "first-view",
              "isDefault": true,
              "type": "public",
              "userID": ""
            },
            {
              "annotationRules": [],
              "chart": {
                "tableSparklines": true
              },
              "chartMode": "grid",
              "confoRules": [],
              "decoration": {
                "footer": "",
                "subtitle": "",
                "title": "Table"
              },
              "facets": [],
              "filterSettings": {
                "SHOW_FILTER_PANEL": true,
                "filters": []
              },
              "id": "first-view",
              "isDefault": true,
              "isTransitory": true,
              "type": "public",
              "userID": ""
            }
          ]
        }
      },
      "execution_count": null,
      "source": "SELECT * FROM public_job_listings.data_nerd_jobs LIMIT 5",
      "outputs": []
    },
    {
      "id": "87903167-355a-4793-9db5-83800f517dea",
      "cell_type": "code",
      "metadata": {
        "noteable": {
          "assign_results_to": "sql_df_2",
          "cell_type": "sql",
          "db_connection": "@086f271403f94f338f5acce150cfab23",
          "output_collection_id": "3c27f4f8-3e92-4019-bf16-fec1c56d15b9"
        },
        "ExecuteTime": {
          "end_time": "2023-12-10T17:48:19.602837+00:00",
          "start_time": "2023-12-10T17:48:18.257968+00:00"
        },
        "datalink": {
          "1a1a406b-b752-40ff-b233-68514b7b1515": {
            "applied_filters": [],
            "dataframe_info": {
              "default_index_used": true,
              "orig_num_cols": 1,
              "orig_num_rows": 5,
              "orig_size_bytes": 80,
              "truncated_num_cols": 1,
              "truncated_num_rows": 5,
              "truncated_size_bytes": 80,
              "truncated_string_columns": []
            },
            "display_id": "1a1a406b-b752-40ff-b233-68514b7b1515",
            "dx_settings": {
              "ALLOW_NOTEABLE_ATTRS": true,
              "COLUMN_SAMPLING_METHOD": "outer",
              "DB_LOCATION": ":memory:",
              "DEV_MODE": false,
              "DISPLAY_MAX_COLUMNS": 100,
              "DISPLAY_MAX_ROWS": 50000,
              "DISPLAY_MODE": "simple",
              "ENABLE_ASSIGNMENT": true,
              "ENABLE_DATALINK": true,
              "FLATTEN_COLUMN_VALUES": true,
              "FLATTEN_INDEX_VALUES": false,
              "GENERATE_DEX_METADATA": false,
              "HTML_TABLE_SCHEMA": false,
              "LOG_LEVEL": 30,
              "MAX_RENDER_SIZE_BYTES": 104857600,
              "MAX_STRING_LENGTH": 250,
              "NUM_PAST_SAMPLES_TRACKED": 3,
              "RANDOM_STATE": 12648430,
              "RESET_INDEX_VALUES": false,
              "ROW_SAMPLING_METHOD": "random",
              "SAMPLING_FACTOR": 0.1,
              "SAMPLING_METHOD": "random",
              "STRINGIFY_COLUMN_VALUES": true,
              "STRINGIFY_INDEX_VALUES": false
            },
            "sample_history": [],
            "sampling_time": "2023-12-10T17:48:19.443784",
            "user_variable_name": "sql_df_2",
            "variable_name": "sql_df_2"
          }
        },
        "dx": {
          "dashboard": {
            "multiViews": []
          },
          "fieldMetadata": {},
          "updated": 1702230502178,
          "views": [
            {
              "annotationRules": [],
              "chart": {},
              "chartMode": "grid",
              "confoRules": [],
              "decoration": {
                "footer": "",
                "subtitle": "",
                "title": "Table"
              },
              "facets": [],
              "filterSettings": {
                "SHOW_FILTER_PANEL": true,
                "filters": []
              },
              "id": "first-view",
              "isDefault": true,
              "type": "public",
              "userID": ""
            },
            {
              "annotationRules": [],
              "chart": {
                "tableSparklines": false
              },
              "chartMode": "grid",
              "confoRules": [],
              "decoration": {
                "footer": "",
                "subtitle": "",
                "title": "Table"
              },
              "facets": [],
              "filterSettings": {
                "SHOW_FILTER_PANEL": true,
                "filters": []
              },
              "id": "first-view",
              "isDefault": true,
              "isTransitory": true,
              "type": "public",
              "userID": ""
            }
          ]
        }
      },
      "execution_count": null,
      "source": "-- Skills are listed in the 'keywords_all' column in JSON format\nSELECT keywords_all FROM public_job_listings.data_nerd_jobs LIMIT 5",
      "outputs": []
    },
    {
      "id": "06f64d4e-0b8f-46f2-880e-d2f04720672c",
      "cell_type": "code",
      "metadata": {
        "noteable": {
          "assign_results_to": "sql_df_3",
          "cell_type": "sql",
          "db_connection": "@086f271403f94f338f5acce150cfab23",
          "output_collection_id": "7a4d1c36-d498-4bd7-9630-deeb27ba77c0"
        },
        "ExecuteTime": {
          "end_time": "2023-12-10T17:51:50.853753+00:00",
          "start_time": "2023-12-10T17:51:49.662879+00:00"
        },
        "datalink": {
          "5aa4f136-7f85-4863-a356-59a4f1b1f592": {
            "applied_filters": [],
            "dataframe_info": {
              "default_index_used": true,
              "orig_num_cols": 1,
              "orig_num_rows": 5,
              "orig_size_bytes": 80,
              "truncated_num_cols": 1,
              "truncated_num_rows": 5,
              "truncated_size_bytes": 80,
              "truncated_string_columns": []
            },
            "display_id": "5aa4f136-7f85-4863-a356-59a4f1b1f592",
            "dx_settings": {
              "ALLOW_NOTEABLE_ATTRS": true,
              "COLUMN_SAMPLING_METHOD": "outer",
              "DB_LOCATION": ":memory:",
              "DEV_MODE": false,
              "DISPLAY_MAX_COLUMNS": 100,
              "DISPLAY_MAX_ROWS": 50000,
              "DISPLAY_MODE": "simple",
              "ENABLE_ASSIGNMENT": true,
              "ENABLE_DATALINK": true,
              "FLATTEN_COLUMN_VALUES": true,
              "FLATTEN_INDEX_VALUES": false,
              "GENERATE_DEX_METADATA": false,
              "HTML_TABLE_SCHEMA": false,
              "LOG_LEVEL": 30,
              "MAX_RENDER_SIZE_BYTES": 104857600,
              "MAX_STRING_LENGTH": 250,
              "NUM_PAST_SAMPLES_TRACKED": 3,
              "RANDOM_STATE": 12648430,
              "RESET_INDEX_VALUES": false,
              "ROW_SAMPLING_METHOD": "random",
              "SAMPLING_FACTOR": 0.1,
              "SAMPLING_METHOD": "random",
              "STRINGIFY_COLUMN_VALUES": true,
              "STRINGIFY_INDEX_VALUES": false
            },
            "sample_history": [],
            "sampling_time": "2023-12-10T17:51:50.694693",
            "user_variable_name": "sql_df_3",
            "variable_name": "sql_df_3"
          }
        },
        "dx": {
          "dashboard": {
            "multiViews": []
          },
          "fieldMetadata": {},
          "updated": 1702230720571,
          "views": [
            {
              "annotationRules": [],
              "chart": {},
              "chartMode": "grid",
              "confoRules": [],
              "decoration": {
                "footer": "",
                "subtitle": "",
                "title": "Table"
              },
              "facets": [],
              "filterSettings": {
                "SHOW_FILTER_PANEL": true,
                "filters": []
              },
              "id": "first-view",
              "isDefault": true,
              "type": "public",
              "userID": ""
            },
            {
              "annotationRules": [],
              "chart": {
                "tableSparklines": false
              },
              "chartMode": "grid",
              "confoRules": [],
              "decoration": {
                "footer": "",
                "subtitle": "",
                "title": "Table"
              },
              "facets": [],
              "filterSettings": {
                "SHOW_FILTER_PANEL": true,
                "filters": []
              },
              "id": "first-view",
              "isDefault": true,
              "isTransitory": true,
              "type": "public",
              "userID": ""
            }
          ]
        }
      },
      "execution_count": null,
      "source": "-- We need to unpack the column\nSELECT list.element AS unpacked_keywords\nFROM public_job_listings.data_nerd_jobs, UNNEST(keywords_all.list) AS list\nLIMIT 5",
      "outputs": []
    },
    {
      "id": "f44929fb-e74e-40c3-9afb-f87577c4fc26",
      "cell_type": "code",
      "metadata": {
        "noteable": {
          "assign_results_to": "sql_df_5",
          "cell_type": "sql",
          "db_connection": "@086f271403f94f338f5acce150cfab23"
        }
      },
      "execution_count": null,
      "source": "",
      "outputs": []
    }
  ]
}
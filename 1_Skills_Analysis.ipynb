{
  "nbformat": 4,
  "nbformat_minor": 5,
  "metadata": {
    "kernel_info": {
      "name": "python3.9-noteable"
    },
    "kernelspec": {
      "display_name": "Python 3.9 (Noteable)",
      "identifier": "noteable",
      "language": "python",
      "language_version": "3.9",
      "name": "python3.9-noteable"
    },
    "selected_hardware_size": "small",
    "noteable": {
      "db_connection": "@086f271403f94f338f5acce150cfab23"
    }
  },
  "cells": [
    {
      "id": "7fbfa690-c35a-4605-8825-2983348e9dc2",
      "cell_type": "markdown",
      "source": "# Most Popular Data Skills",
      "metadata": {
        "noteable": {
          "cell_type": "markdown"
        }
      }
    },
    {
      "id": "4294d4f4",
      "cell_type": "code",
      "metadata": {
        "noteable": {
          "assign_results_to": "sql_df_1",
          "cell_type": "sql",
          "db_connection": "@086f271403f94f338f5acce150cfab23",
          "output_collection_id": "7d11af87-15fc-4736-aa97-2d14e5e18c16"
        },
        "ExecuteTime": {
          "end_time": "2023-12-10T17:47:13.349664+00:00",
          "start_time": "2023-12-10T17:47:11.696445+00:00"
        },
        "datalink": {
          "ba7266af-77f2-4eeb-8c81-c6371eebd8b7": {
            "applied_filters": [],
            "dataframe_info": {
              "default_index_used": true,
              "orig_num_cols": 3,
              "orig_num_rows": 1,
              "orig_size_bytes": 32,
              "truncated_num_cols": 3,
              "truncated_num_rows": 1,
              "truncated_size_bytes": 32,
              "truncated_string_columns": []
            },
            "display_id": "ba7266af-77f2-4eeb-8c81-c6371eebd8b7",
            "dx_settings": {
              "ALLOW_NOTEABLE_ATTRS": true,
              "COLUMN_SAMPLING_METHOD": "outer",
              "DB_LOCATION": ":memory:",
              "DEV_MODE": false,
              "DISPLAY_MAX_COLUMNS": 100,
              "DISPLAY_MAX_ROWS": 50000,
              "DISPLAY_MODE": "simple",
              "ENABLE_ASSIGNMENT": true,
              "ENABLE_DATALINK": true,
              "FLATTEN_COLUMN_VALUES": true,
              "FLATTEN_INDEX_VALUES": false,
              "GENERATE_DEX_METADATA": false,
              "HTML_TABLE_SCHEMA": false,
              "LOG_LEVEL": 30,
              "MAX_RENDER_SIZE_BYTES": 104857600,
              "MAX_STRING_LENGTH": 250,
              "NUM_PAST_SAMPLES_TRACKED": 3,
              "RANDOM_STATE": 12648430,
              "RESET_INDEX_VALUES": false,
              "ROW_SAMPLING_METHOD": "random",
              "SAMPLING_FACTOR": 0.1,
              "SAMPLING_METHOD": "random",
              "STRINGIFY_COLUMN_VALUES": true,
              "STRINGIFY_INDEX_VALUES": false
            },
            "sample_history": [],
            "sampling_time": "2023-12-10T17:47:13.186867",
            "user_variable_name": null,
            "variable_name": "unk_dataframe_4f82f9c1c7f747829924780922821eee"
          }
        },
        "dx": {
          "dashboard": {
            "multiViews": []
          },
          "fieldMetadata": {},
          "updated": 1702230435816,
          "views": [
            {
              "annotationRules": [],
              "chart": {},
              "chartMode": "grid",
              "confoRules": [],
              "decoration": {
                "footer": "",
                "subtitle": "",
                "title": "Table"
              },
              "facets": [],
              "filterSettings": {
                "SHOW_FILTER_PANEL": true,
                "filters": []
              },
              "id": "first-view",
              "isDefault": true,
              "type": "public",
              "userID": ""
            },
            {
              "annotationRules": [],
              "chart": {
                "tableSparklines": false
              },
              "chartMode": "grid",
              "confoRules": [],
              "decoration": {
                "footer": "",
                "subtitle": "",
                "title": "Table"
              },
              "facets": [],
              "filterSettings": {
                "SHOW_FILTER_PANEL": true,
                "filters": []
              },
              "id": "first-view",
              "isDefault": true,
              "isTransitory": true,
              "type": "public",
              "userID": ""
            }
          ]
        }
      },
      "execution_count": null,
      "source": "\\list",
      "outputs": []
    },
    {
      "id": "05f4f341-0f1d-44d7-8535-e58e384d4327",
      "cell_type": "code",
      "metadata": {
        "noteable": {
          "assign_results_to": "df",
          "cell_type": "sql",
          "db_connection": "@086f271403f94f338f5acce150cfab23",
          "output_collection_id": "50434151-9648-4433-83b2-321d9bfa2807"
        },
        "ExecuteTime": {
          "end_time": "2023-12-10T18:08:26.353843+00:00",
          "start_time": "2023-12-10T18:08:24.964628+00:00"
        },
        "datalink": {
          "cd230d36-d1c8-481b-a3f1-a8c776829ecb": {
            "applied_filters": [],
            "dataframe_info": {
              "default_index_used": true,
              "orig_num_cols": 45,
              "orig_num_rows": 5,
              "orig_size_bytes": 1805,
              "truncated_num_cols": 45,
              "truncated_num_rows": 5,
              "truncated_size_bytes": 1805,
              "truncated_string_columns": [
                "job_id",
                "job_description",
                "job_highlights_qualifications",
                "job_highlights_responsibilities",
                "job_highlights_benefits",
                "keywords_all"
              ]
            },
            "display_id": "cd230d36-d1c8-481b-a3f1-a8c776829ecb",
            "dx_settings": {
              "ALLOW_NOTEABLE_ATTRS": true,
              "COLUMN_SAMPLING_METHOD": "outer",
              "DB_LOCATION": ":memory:",
              "DEV_MODE": false,
              "DISPLAY_MAX_COLUMNS": 100,
              "DISPLAY_MAX_ROWS": 50000,
              "DISPLAY_MODE": "simple",
              "ENABLE_ASSIGNMENT": true,
              "ENABLE_DATALINK": true,
              "FLATTEN_COLUMN_VALUES": true,
              "FLATTEN_INDEX_VALUES": false,
              "GENERATE_DEX_METADATA": false,
              "HTML_TABLE_SCHEMA": false,
              "LOG_LEVEL": 30,
              "MAX_RENDER_SIZE_BYTES": 104857600,
              "MAX_STRING_LENGTH": 250,
              "NUM_PAST_SAMPLES_TRACKED": 3,
              "RANDOM_STATE": 12648430,
              "RESET_INDEX_VALUES": false,
              "ROW_SAMPLING_METHOD": "random",
              "SAMPLING_FACTOR": 0.1,
              "SAMPLING_METHOD": "random",
              "STRINGIFY_COLUMN_VALUES": true,
              "STRINGIFY_INDEX_VALUES": false
            },
            "sample_history": [],
            "sampling_time": "2023-12-10T17:51:15.996761",
            "user_variable_name": "sql_df_4",
            "variable_name": "sql_df_4"
          },
          "5f15eae5-5ac1-405d-b452-c12053a103f9": {
            "applied_filters": [],
            "dataframe_info": {
              "default_index_used": true,
              "orig_num_cols": 45,
              "orig_num_rows": 5,
              "orig_size_bytes": 1805,
              "truncated_num_cols": 45,
              "truncated_num_rows": 5,
              "truncated_size_bytes": 1805,
              "truncated_string_columns": [
                "job_id",
                "job_description",
                "job_highlights_qualifications",
                "job_highlights_responsibilities",
                "job_highlights_benefits",
                "keywords_all"
              ]
            },
            "display_id": "5f15eae5-5ac1-405d-b452-c12053a103f9",
            "dx_settings": {
              "ALLOW_NOTEABLE_ATTRS": true,
              "COLUMN_SAMPLING_METHOD": "outer",
              "DB_LOCATION": ":memory:",
              "DEV_MODE": false,
              "DISPLAY_MAX_COLUMNS": 100,
              "DISPLAY_MAX_ROWS": 50000,
              "DISPLAY_MODE": "simple",
              "ENABLE_ASSIGNMENT": true,
              "ENABLE_DATALINK": true,
              "FLATTEN_COLUMN_VALUES": true,
              "FLATTEN_INDEX_VALUES": false,
              "GENERATE_DEX_METADATA": false,
              "HTML_TABLE_SCHEMA": false,
              "LOG_LEVEL": 30,
              "MAX_RENDER_SIZE_BYTES": 104857600,
              "MAX_STRING_LENGTH": 250,
              "NUM_PAST_SAMPLES_TRACKED": 3,
              "RANDOM_STATE": 12648430,
              "RESET_INDEX_VALUES": false,
              "ROW_SAMPLING_METHOD": "random",
              "SAMPLING_FACTOR": 0.1,
              "SAMPLING_METHOD": "random",
              "STRINGIFY_COLUMN_VALUES": true,
              "STRINGIFY_INDEX_VALUES": false
            },
            "sample_history": [],
            "sampling_time": "2023-12-10T18:08:26.179617",
            "user_variable_name": "sql_df_4",
            "variable_name": "sql_df_4"
          }
        },
        "dx": {
          "dashboard": {
            "multiViews": []
          },
          "fieldMetadata": {},
          "updated": 1702230679974,
          "views": [
            {
              "annotationRules": [],
              "chart": {},
              "chartMode": "grid",
              "confoRules": [],
              "decoration": {
                "footer": "",
                "subtitle": "",
                "title": "Table"
              },
              "facets": [],
              "filterSettings": {
                "SHOW_FILTER_PANEL": true,
                "filters": []
              },
              "id": "first-view",
              "isDefault": true,
              "type": "public",
              "userID": ""
            },
            {
              "annotationRules": [],
              "chart": {
                "tableSparklines": true
              },
              "chartMode": "grid",
              "confoRules": [],
              "decoration": {
                "footer": "",
                "subtitle": "",
                "title": "Table"
              },
              "facets": [],
              "filterSettings": {
                "SHOW_FILTER_PANEL": true,
                "filters": []
              },
              "id": "first-view",
              "isDefault": true,
              "isTransitory": true,
              "type": "public",
              "userID": ""
            }
          ]
        }
      },
      "execution_count": null,
      "source": "SELECT * FROM public_job_listings.data_nerd_jobs LIMIT 5",
      "outputs": []
    },
    {
      "id": "3a4e7326-9ef3-49b5-85e9-c54e692f8dc6",
      "cell_type": "code",
      "metadata": {
        "noteable": {
          "cell_type": "python",
          "output_collection_id": "b6ed3a3d-774f-427d-9b72-701415385f49"
        },
        "ExecuteTime": {
          "end_time": "2023-12-10T18:08:29.368045+00:00",
          "start_time": "2023-12-10T18:08:29.205740+00:00"
        }
      },
      "execution_count": null,
      "source": "df.info()",
      "outputs": []
    },
    {
      "id": "87903167-355a-4793-9db5-83800f517dea",
      "cell_type": "code",
      "metadata": {
        "noteable": {
          "assign_results_to": "sql_df_2",
          "cell_type": "sql",
          "db_connection": "@086f271403f94f338f5acce150cfab23",
          "output_collection_id": "3c27f4f8-3e92-4019-bf16-fec1c56d15b9"
        },
        "ExecuteTime": {
          "end_time": "2023-12-10T17:48:19.602837+00:00",
          "start_time": "2023-12-10T17:48:18.257968+00:00"
        },
        "datalink": {
          "1a1a406b-b752-40ff-b233-68514b7b1515": {
            "applied_filters": [],
            "dataframe_info": {
              "default_index_used": true,
              "orig_num_cols": 1,
              "orig_num_rows": 5,
              "orig_size_bytes": 80,
              "truncated_num_cols": 1,
              "truncated_num_rows": 5,
              "truncated_size_bytes": 80,
              "truncated_string_columns": []
            },
            "display_id": "1a1a406b-b752-40ff-b233-68514b7b1515",
            "dx_settings": {
              "ALLOW_NOTEABLE_ATTRS": true,
              "COLUMN_SAMPLING_METHOD": "outer",
              "DB_LOCATION": ":memory:",
              "DEV_MODE": false,
              "DISPLAY_MAX_COLUMNS": 100,
              "DISPLAY_MAX_ROWS": 50000,
              "DISPLAY_MODE": "simple",
              "ENABLE_ASSIGNMENT": true,
              "ENABLE_DATALINK": true,
              "FLATTEN_COLUMN_VALUES": true,
              "FLATTEN_INDEX_VALUES": false,
              "GENERATE_DEX_METADATA": false,
              "HTML_TABLE_SCHEMA": false,
              "LOG_LEVEL": 30,
              "MAX_RENDER_SIZE_BYTES": 104857600,
              "MAX_STRING_LENGTH": 250,
              "NUM_PAST_SAMPLES_TRACKED": 3,
              "RANDOM_STATE": 12648430,
              "RESET_INDEX_VALUES": false,
              "ROW_SAMPLING_METHOD": "random",
              "SAMPLING_FACTOR": 0.1,
              "SAMPLING_METHOD": "random",
              "STRINGIFY_COLUMN_VALUES": true,
              "STRINGIFY_INDEX_VALUES": false
            },
            "sample_history": [],
            "sampling_time": "2023-12-10T17:48:19.443784",
            "user_variable_name": "sql_df_2",
            "variable_name": "sql_df_2"
          }
        },
        "dx": {
          "dashboard": {
            "multiViews": []
          },
          "fieldMetadata": {},
          "updated": 1702230502178,
          "views": [
            {
              "annotationRules": [],
              "chart": {},
              "chartMode": "grid",
              "confoRules": [],
              "decoration": {
                "footer": "",
                "subtitle": "",
                "title": "Table"
              },
              "facets": [],
              "filterSettings": {
                "SHOW_FILTER_PANEL": true,
                "filters": []
              },
              "id": "first-view",
              "isDefault": true,
              "type": "public",
              "userID": ""
            },
            {
              "annotationRules": [],
              "chart": {
                "tableSparklines": false
              },
              "chartMode": "grid",
              "confoRules": [],
              "decoration": {
                "footer": "",
                "subtitle": "",
                "title": "Table"
              },
              "facets": [],
              "filterSettings": {
                "SHOW_FILTER_PANEL": true,
                "filters": []
              },
              "id": "first-view",
              "isDefault": true,
              "isTransitory": true,
              "type": "public",
              "userID": ""
            }
          ]
        }
      },
      "execution_count": null,
      "source": "-- Skills are listed in the 'keywords_all' column in JSON format\nSELECT keywords_all FROM public_job_listings.data_nerd_jobs LIMIT 5",
      "outputs": []
    },
    {
      "id": "06f64d4e-0b8f-46f2-880e-d2f04720672c",
      "cell_type": "code",
      "metadata": {
        "noteable": {
          "assign_results_to": "sql_df_3",
          "cell_type": "sql",
          "db_connection": "@086f271403f94f338f5acce150cfab23",
          "output_collection_id": "7a4d1c36-d498-4bd7-9630-deeb27ba77c0"
        },
        "ExecuteTime": {
          "end_time": "2023-12-10T17:51:50.853753+00:00",
          "start_time": "2023-12-10T17:51:49.662879+00:00"
        },
        "datalink": {
          "5aa4f136-7f85-4863-a356-59a4f1b1f592": {
            "applied_filters": [],
            "dataframe_info": {
              "default_index_used": true,
              "orig_num_cols": 1,
              "orig_num_rows": 5,
              "orig_size_bytes": 80,
              "truncated_num_cols": 1,
              "truncated_num_rows": 5,
              "truncated_size_bytes": 80,
              "truncated_string_columns": []
            },
            "display_id": "5aa4f136-7f85-4863-a356-59a4f1b1f592",
            "dx_settings": {
              "ALLOW_NOTEABLE_ATTRS": true,
              "COLUMN_SAMPLING_METHOD": "outer",
              "DB_LOCATION": ":memory:",
              "DEV_MODE": false,
              "DISPLAY_MAX_COLUMNS": 100,
              "DISPLAY_MAX_ROWS": 50000,
              "DISPLAY_MODE": "simple",
              "ENABLE_ASSIGNMENT": true,
              "ENABLE_DATALINK": true,
              "FLATTEN_COLUMN_VALUES": true,
              "FLATTEN_INDEX_VALUES": false,
              "GENERATE_DEX_METADATA": false,
              "HTML_TABLE_SCHEMA": false,
              "LOG_LEVEL": 30,
              "MAX_RENDER_SIZE_BYTES": 104857600,
              "MAX_STRING_LENGTH": 250,
              "NUM_PAST_SAMPLES_TRACKED": 3,
              "RANDOM_STATE": 12648430,
              "RESET_INDEX_VALUES": false,
              "ROW_SAMPLING_METHOD": "random",
              "SAMPLING_FACTOR": 0.1,
              "SAMPLING_METHOD": "random",
              "STRINGIFY_COLUMN_VALUES": true,
              "STRINGIFY_INDEX_VALUES": false
            },
            "sample_history": [],
            "sampling_time": "2023-12-10T17:51:50.694693",
            "user_variable_name": "sql_df_3",
            "variable_name": "sql_df_3"
          }
        },
        "dx": {
          "dashboard": {
            "multiViews": []
          },
          "fieldMetadata": {},
          "updated": 1702230720571,
          "views": [
            {
              "annotationRules": [],
              "chart": {},
              "chartMode": "grid",
              "confoRules": [],
              "decoration": {
                "footer": "",
                "subtitle": "",
                "title": "Table"
              },
              "facets": [],
              "filterSettings": {
                "SHOW_FILTER_PANEL": true,
                "filters": []
              },
              "id": "first-view",
              "isDefault": true,
              "type": "public",
              "userID": ""
            },
            {
              "annotationRules": [],
              "chart": {
                "tableSparklines": false
              },
              "chartMode": "grid",
              "confoRules": [],
              "decoration": {
                "footer": "",
                "subtitle": "",
                "title": "Table"
              },
              "facets": [],
              "filterSettings": {
                "SHOW_FILTER_PANEL": true,
                "filters": []
              },
              "id": "first-view",
              "isDefault": true,
              "isTransitory": true,
              "type": "public",
              "userID": ""
            }
          ]
        }
      },
      "execution_count": null,
      "source": "-- We need to unpack the column\n-- Selecting data from a nested column. The list.element refers to the 'element' field of a nested structure named 'list'.\nSELECT list.element AS unpacked_keywords\n-- Unpacking the 'list' field from the 'keywords_all' column, which is an array. The UNNEST function is used to expand an array into a set of rows.\nFROM public_job_listings.data_nerd_jobs, UNNEST(keywords_all.list) AS list\nLIMIT 5",
      "outputs": []
    },
    {
      "id": "f44929fb-e74e-40c3-9afb-f87577c4fc26",
      "cell_type": "markdown",
      "source": "## Skill Popularity Analysis\nAnalyzing the most popular skills in the 'keywords_all' column.",
      "metadata": {
        "noteable": {
          "cell_type": "markdown"
        }
      }
    },
    {
      "id": "6b4c001e-3ad5-48ce-af0c-5f9fa5659e67",
      "cell_type": "code",
      "metadata": {
        "noteable": {
          "assign_results_to": "top_skills_df",
          "cell_type": "sql",
          "db_connection": "@086f271403f94f338f5acce150cfab23",
          "output_collection_id": "5c22ad54-44e0-4810-bb38-82c95d8565ed"
        },
        "ExecuteTime": {
          "end_time": "2023-12-10T18:16:50.139473+00:00",
          "start_time": "2023-12-10T18:16:46.723330+00:00"
        },
        "datalink": {
          "02b845fa-47ba-48f6-9f17-73e9497285b7": {
            "applied_filters": [],
            "dataframe_info": {
              "default_index_used": true,
              "orig_num_cols": 2,
              "orig_num_rows": 10,
              "orig_size_bytes": 240,
              "truncated_num_cols": 2,
              "truncated_num_rows": 10,
              "truncated_size_bytes": 240,
              "truncated_string_columns": []
            },
            "display_id": "02b845fa-47ba-48f6-9f17-73e9497285b7",
            "dx_settings": {
              "ALLOW_NOTEABLE_ATTRS": true,
              "COLUMN_SAMPLING_METHOD": "outer",
              "DB_LOCATION": ":memory:",
              "DEV_MODE": false,
              "DISPLAY_MAX_COLUMNS": 100,
              "DISPLAY_MAX_ROWS": 50000,
              "DISPLAY_MODE": "simple",
              "ENABLE_ASSIGNMENT": true,
              "ENABLE_DATALINK": true,
              "FLATTEN_COLUMN_VALUES": true,
              "FLATTEN_INDEX_VALUES": false,
              "GENERATE_DEX_METADATA": false,
              "HTML_TABLE_SCHEMA": false,
              "LOG_LEVEL": 30,
              "MAX_RENDER_SIZE_BYTES": 104857600,
              "MAX_STRING_LENGTH": 250,
              "NUM_PAST_SAMPLES_TRACKED": 3,
              "RANDOM_STATE": 12648430,
              "RESET_INDEX_VALUES": false,
              "ROW_SAMPLING_METHOD": "random",
              "SAMPLING_FACTOR": 0.1,
              "SAMPLING_METHOD": "random",
              "STRINGIFY_COLUMN_VALUES": true,
              "STRINGIFY_INDEX_VALUES": false
            },
            "sample_history": [],
            "sampling_time": "2023-12-10T18:07:43.301665",
            "user_variable_name": "sql_df_5",
            "variable_name": "sql_df_5"
          },
          "2e6ae69d-e833-4edf-b14a-bf61833ec72b": {
            "applied_filters": [],
            "dataframe_info": {
              "default_index_used": true,
              "orig_num_cols": 2,
              "orig_num_rows": 10,
              "orig_size_bytes": 240,
              "truncated_num_cols": 2,
              "truncated_num_rows": 10,
              "truncated_size_bytes": 240,
              "truncated_string_columns": []
            },
            "display_id": "2e6ae69d-e833-4edf-b14a-bf61833ec72b",
            "dx_settings": {
              "ALLOW_NOTEABLE_ATTRS": true,
              "COLUMN_SAMPLING_METHOD": "outer",
              "DB_LOCATION": ":memory:",
              "DEV_MODE": false,
              "DISPLAY_MAX_COLUMNS": 100,
              "DISPLAY_MAX_ROWS": 50000,
              "DISPLAY_MODE": "simple",
              "ENABLE_ASSIGNMENT": true,
              "ENABLE_DATALINK": true,
              "FLATTEN_COLUMN_VALUES": true,
              "FLATTEN_INDEX_VALUES": false,
              "GENERATE_DEX_METADATA": false,
              "HTML_TABLE_SCHEMA": false,
              "LOG_LEVEL": 30,
              "MAX_RENDER_SIZE_BYTES": 104857600,
              "MAX_STRING_LENGTH": 250,
              "NUM_PAST_SAMPLES_TRACKED": 3,
              "RANDOM_STATE": 12648430,
              "RESET_INDEX_VALUES": false,
              "ROW_SAMPLING_METHOD": "random",
              "SAMPLING_FACTOR": 0.1,
              "SAMPLING_METHOD": "random",
              "STRINGIFY_COLUMN_VALUES": true,
              "STRINGIFY_INDEX_VALUES": false
            },
            "sample_history": [],
            "sampling_time": "2023-12-10T18:16:49.979646",
            "user_variable_name": "top_skills_df",
            "variable_name": "top_skills_df"
          }
        }
      },
      "execution_count": null,
      "source": "SELECT list.element AS skill, COUNT(*) AS frequency\nFROM public_job_listings.data_nerd_jobs, UNNEST(keywords_all.list) AS list\nGROUP BY skill\nORDER BY frequency DESC\nLIMIT 10",
      "outputs": []
    },
    {
      "id": "c0b2f330-bd67-4fea-86c0-486c4149eefd",
      "cell_type": "markdown",
      "source": "## Bar Graph for the Top 10 Most Popular Skills in Data Jobs",
      "metadata": {
        "noteable": {
          "cell_type": "markdown"
        }
      }
    },
    {
      "id": "f1dd6961-33fe-4e4f-932f-d3bf9a65fb63",
      "cell_type": "code",
      "metadata": {
        "jupyter": {
          "outputs_hidden": false,
          "source_hidden": false
        },
        "noteable": {
          "cell_type": "code",
          "output_collection_id": "ff79632c-5ad9-4b84-8aa8-81869fb17f4a"
        },
        "ExecuteTime": {
          "end_time": "2023-12-10T18:16:54.229750+00:00",
          "start_time": "2023-12-10T18:16:53.731996+00:00"
        }
      },
      "execution_count": null,
      "source": "import seaborn as sns\nimport matplotlib.pyplot as plt\n\n# Create the bar plot\nplt.figure(figsize=(12, 8))\nsns.barplot(x='frequency', y='skill', data=top_skills_df, color='#005b96')\n# Add labels and title\nplt.xlabel('Frequency')\nplt.ylabel('Skill')\nplt.title('Top 10 Most Popular Skills')\n\nplt.show()",
      "outputs": []
    },
    {
      "id": "cb62de54-609d-40e8-b60a-edbce3473137",
      "cell_type": "markdown",
      "source": "## Job Title Analysis\nAnalyzing the 3 most popular job titles in our dataset",
      "metadata": {
        "noteable": {
          "cell_type": "markdown"
        }
      }
    },
    {
      "id": "35d2b0a3-6d88-4b0a-aa35-9d024f8e9d5f",
      "cell_type": "code",
      "metadata": {
        "noteable": {
          "assign_results_to": "skills_by_job_title_df",
          "cell_type": "sql",
          "db_connection": "@086f271403f94f338f5acce150cfab23",
          "output_collection_id": "29c435fb-fe0e-4abc-86ce-c53ebd454fb5"
        },
        "ExecuteTime": {
          "end_time": "2023-12-10T18:20:57.585539+00:00",
          "start_time": "2023-12-10T18:20:56.245529+00:00"
        },
        "datalink": {
          "6bdf521a-a7d6-42dd-b1f3-0ba2768dc880": {
            "applied_filters": [],
            "dataframe_info": {
              "default_index_used": true,
              "orig_num_cols": 2,
              "orig_num_rows": 3,
              "orig_size_bytes": 72,
              "truncated_num_cols": 2,
              "truncated_num_rows": 3,
              "truncated_size_bytes": 72,
              "truncated_string_columns": []
            },
            "display_id": "6bdf521a-a7d6-42dd-b1f3-0ba2768dc880",
            "dx_settings": {
              "ALLOW_NOTEABLE_ATTRS": true,
              "COLUMN_SAMPLING_METHOD": "outer",
              "DB_LOCATION": ":memory:",
              "DEV_MODE": false,
              "DISPLAY_MAX_COLUMNS": 100,
              "DISPLAY_MAX_ROWS": 50000,
              "DISPLAY_MODE": "simple",
              "ENABLE_ASSIGNMENT": true,
              "ENABLE_DATALINK": true,
              "FLATTEN_COLUMN_VALUES": true,
              "FLATTEN_INDEX_VALUES": false,
              "GENERATE_DEX_METADATA": false,
              "HTML_TABLE_SCHEMA": false,
              "LOG_LEVEL": 30,
              "MAX_RENDER_SIZE_BYTES": 104857600,
              "MAX_STRING_LENGTH": 250,
              "NUM_PAST_SAMPLES_TRACKED": 3,
              "RANDOM_STATE": 12648430,
              "RESET_INDEX_VALUES": false,
              "ROW_SAMPLING_METHOD": "random",
              "SAMPLING_FACTOR": 0.1,
              "SAMPLING_METHOD": "random",
              "STRINGIFY_COLUMN_VALUES": true,
              "STRINGIFY_INDEX_VALUES": false
            },
            "sample_history": [],
            "sampling_time": "2023-12-10T18:19:32.710967",
            "user_variable_name": "sql_df_4",
            "variable_name": "sql_df_4"
          },
          "d8623ed0-4698-40af-b437-4dbd514719d4": {
            "applied_filters": [],
            "dataframe_info": {
              "default_index_used": true,
              "orig_num_cols": 2,
              "orig_num_rows": 3,
              "orig_size_bytes": 72,
              "truncated_num_cols": 2,
              "truncated_num_rows": 3,
              "truncated_size_bytes": 72,
              "truncated_string_columns": []
            },
            "display_id": "d8623ed0-4698-40af-b437-4dbd514719d4",
            "dx_settings": {
              "ALLOW_NOTEABLE_ATTRS": true,
              "COLUMN_SAMPLING_METHOD": "outer",
              "DB_LOCATION": ":memory:",
              "DEV_MODE": false,
              "DISPLAY_MAX_COLUMNS": 100,
              "DISPLAY_MAX_ROWS": 50000,
              "DISPLAY_MODE": "simple",
              "ENABLE_ASSIGNMENT": true,
              "ENABLE_DATALINK": true,
              "FLATTEN_COLUMN_VALUES": true,
              "FLATTEN_INDEX_VALUES": false,
              "GENERATE_DEX_METADATA": false,
              "HTML_TABLE_SCHEMA": false,
              "LOG_LEVEL": 30,
              "MAX_RENDER_SIZE_BYTES": 104857600,
              "MAX_STRING_LENGTH": 250,
              "NUM_PAST_SAMPLES_TRACKED": 3,
              "RANDOM_STATE": 12648430,
              "RESET_INDEX_VALUES": false,
              "ROW_SAMPLING_METHOD": "random",
              "SAMPLING_FACTOR": 0.1,
              "SAMPLING_METHOD": "random",
              "STRINGIFY_COLUMN_VALUES": true,
              "STRINGIFY_INDEX_VALUES": false
            },
            "sample_history": [],
            "sampling_time": "2023-12-10T18:20:57.424351",
            "user_variable_name": "skills_by_job_title_df",
            "variable_name": "skills_by_job_title_df"
          }
        }
      },
      "execution_count": null,
      "source": "SELECT job_title_final, COUNT(*) AS frequency\nFROM public_job_listings.data_nerd_jobs\nGROUP BY job_title_final\nORDER BY frequency DESC\nLIMIT 3",
      "outputs": []
    },
    {
      "id": "f7fc8cb0-e47b-4182-8ed5-23e281b92789",
      "cell_type": "code",
      "metadata": {
        "jupyter": {
          "outputs_hidden": false,
          "source_hidden": false
        },
        "noteable": {
          "cell_type": "code",
          "output_collection_id": "df6fb762-91bc-4051-a71c-5d0db3507a38"
        },
        "ExecuteTime": {
          "end_time": "2023-12-10T18:20:35.820390+00:00",
          "start_time": "2023-12-10T18:20:35.645914+00:00"
        }
      },
      "execution_count": null,
      "source": "skills_by_job_title_df = revised_skills_by_job_title_df\n# Plotting without filtering the top 10 skills\nplt.figure(figsize=(20, 15))\nsns.barplot(x='skill_percent', y='skill', hue='job_title_final', data=revised_skills_by_job_title_df, palette='Blues_r')\n# Labels and Title\nplt.xlabel('Skill Percent (%)')\nplt.ylabel('Skill')\nplt.title('All Relevant Skills by Job Title (Percentage)')\n# Show the plot\nplt.show()",
      "outputs": []
    }
  ]
}
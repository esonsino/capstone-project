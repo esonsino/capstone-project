{
  "nbformat": 4,
  "nbformat_minor": 5,
  "metadata": {
    "selected_hardware_size": "small"
  },
  "cells": [
    {
      "id": "726faa61",
      "cell_type": "markdown",
      "source": "# Most Required ",
      "metadata": {
        "noteable": {
          "cell_type": "markdown"
        }
      }
    }
  ]
}
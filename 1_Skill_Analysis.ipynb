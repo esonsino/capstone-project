{
  "nbformat": 4,
  "nbformat_minor": 5,
  "metadata": {
    "selected_hardware_size": "small",
    "kernel_info": {
      "name": "python3"
    },
    "kernelspec": {
      "display_name": "Python 3.9",
      "identifier": "legacy",
      "language": "python",
      "language_version": "3.9",
      "name": "python3"
    }
  },
  "cells": [
    {
      "id": "726faa61",
      "cell_type": "markdown",
      "source": "# Most Required Skills for Data Jobs",
      "metadata": {
        "noteable": {
          "cell_type": "markdown"
        }
      }
    },
    {
      "id": "98ab89f0-c7f0-45f2-8ab1-185f3e8e123d",
      "cell_type": "markdown",
      "source": "",
      "metadata": {
        "noteable": {
          "cell_type": "markdown"
        }
      }
    },
    {
      "id": "28321214-284d-4afb-9758-9ceed07ccdd1",
      "cell_type": "code",
      "metadata": {
        "noteable": {
          "assign_results_to": "sql_df_tyxq",
          "cell_type": "sql",
          "db_connection": "@086f271403f94f338f5acce150cfab23",
          "output_collection_id": "5ab1deca-16c8-418d-b085-f09f017bdc40"
        },
        "ExecuteTime": {
          "end_time": "2023-12-10T15:58:41.129142+00:00",
          "start_time": "2023-12-10T15:58:39.421417+00:00"
        },
        "datalink": {
          "6135ee50-33b4-4b3a-996a-042b93abf27f": {
            "applied_filters": [],
            "dataframe_info": {
              "default_index_used": true,
              "orig_num_cols": 3,
              "orig_num_rows": 1,
              "orig_size_bytes": 32,
              "truncated_num_cols": 3,
              "truncated_num_rows": 1,
              "truncated_size_bytes": 32,
              "truncated_string_columns": []
            },
            "display_id": "6135ee50-33b4-4b3a-996a-042b93abf27f",
            "dx_settings": {
              "ALLOW_NOTEABLE_ATTRS": true,
              "COLUMN_SAMPLING_METHOD": "outer",
              "DB_LOCATION": ":memory:",
              "DEV_MODE": false,
              "DISPLAY_MAX_COLUMNS": 100,
              "DISPLAY_MAX_ROWS": 50000,
              "DISPLAY_MODE": "simple",
              "ENABLE_ASSIGNMENT": true,
              "ENABLE_DATALINK": true,
              "FLATTEN_COLUMN_VALUES": true,
              "FLATTEN_INDEX_VALUES": false,
              "GENERATE_DEX_METADATA": false,
              "HTML_TABLE_SCHEMA": false,
              "LOG_LEVEL": 30,
              "MAX_RENDER_SIZE_BYTES": 104857600,
              "MAX_STRING_LENGTH": 250,
              "NUM_PAST_SAMPLES_TRACKED": 3,
              "RANDOM_STATE": 12648430,
              "RESET_INDEX_VALUES": false,
              "ROW_SAMPLING_METHOD": "random",
              "SAMPLING_FACTOR": 0.1,
              "SAMPLING_METHOD": "random",
              "STRINGIFY_COLUMN_VALUES": true,
              "STRINGIFY_INDEX_VALUES": false
            },
            "sample_history": [],
            "sampling_time": "2023-12-10T15:58:40.967680",
            "user_variable_name": null,
            "variable_name": "unk_dataframe_e55145295ede4965ad341127cc90b3d7"
          }
        }
      },
      "execution_count": null,
      "source": "-- \n\\list",
      "outputs": []
    }
  ]
}
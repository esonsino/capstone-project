{
  "nbformat": 4,
  "nbformat_minor": 5,
  "metadata": {
    "selected_hardware_size": "small",
    "kernel_info": {
      "name": "python3"
    },
    "kernelspec": {
      "display_name": "Python 3.9",
      "identifier": "legacy",
      "language": "python",
      "language_version": "3.9",
      "name": "python3"
    }
  },
  "cells": [
    {
      "id": "726faa61",
      "cell_type": "markdown",
      "source": "# Most Required Skills for Data Jobs",
      "metadata": {
        "noteable": {
          "cell_type": "markdown"
        }
      }
    },
    {
      "id": "98ab89f0-c7f0-45f2-8ab1-185f3e8e123d",
      "cell_type": "markdown",
      "source": "",
      "metadata": {
        "noteable": {
          "cell_type": "markdown"
        }
      }
    },
    {
      "id": "28321214-284d-4afb-9758-9ceed07ccdd1",
      "cell_type": "code",
      "metadata": {
        "noteable": {
          "assign_results_to": "sql_df_tyxq",
          "cell_type": "sql",
          "db_connection": "@086f271403f94f338f5acce150cfab23",
          "output_collection_id": "35e0c2aa-cc58-40cb-9ae1-0b2646de6fb5"
        },
        "ExecuteTime": null
      },
      "execution_count": null,
      "source": "\\list",
      "outputs": []
    }
  ]
}
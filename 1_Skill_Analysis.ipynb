{
  "nbformat": 4,
  "nbformat_minor": 5,
  "metadata": {
    "selected_hardware_size": "small"
  },
  "cells": [
    {
      "id": "726faa61",
      "cell_type": "markdown",
      "source": "# Most Required Skills for Data Jobs",
      "metadata": {
        "noteable": {
          "cell_type": "markdown"
        }
      }
    },
    {
      "id": "98ab89f0-c7f0-45f2-8ab1-185f3e8e123d",
      "cell_type": "markdown",
      "source": "",
      "metadata": {
        "noteable": {
          "cell_type": "markdown"
        }
      }
    }
  ]
}
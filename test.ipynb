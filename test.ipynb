{
  "nbformat": 4,
  "nbformat_minor": 5,
  "metadata": {
    "selected_hardware_size": "small",
    "kernel_info": {
      "name": "python3"
    },
    "kernelspec": {
      "display_name": "Python 3.9",
      "identifier": "legacy",
      "language": "python",
      "language_version": "3.9",
      "name": "python3"
    }
  },
  "cells": [
    {
      "id": "1dbb5ec7",
      "cell_type": "code",
      "metadata": {
        "noteable": {
          "cell_type": "python"
        }
      },
      "execution_count": null,
      "source": "print('hello')",
      "outputs": []
    },
    {
      "id": "bc44df5a-ac2b-47d4-b28b-0de6696db510",
      "cell_type": "code",
      "metadata": {
        "jupyter": {
          "outputs_hidden": false,
          "source_hidden": false
        },
        "noteable": {
          "cell_type": "code",
          "output_collection_id": "b05a8b7c-7582-4826-aeaa-110520cf1515"
        },
        "ExecuteTime": {
          "end_time": "2023-12-09T21:29:30.119288+00:00",
          "start_time": "2023-12-09T21:29:29.963923+00:00"
        }
      },
      "execution_count": null,
      "source": "x = 2\ny = 4\nprint(x+y)",
      "outputs": []
    },
    {
      "id": "832d877d-ba75-4d8f-83c8-b0d3d851a0e5",
      "cell_type": "code",
      "metadata": {
        "jupyter": {
          "outputs_hidden": false,
          "source_hidden": false
        },
        "noteable": {
          "cell_type": "code",
          "output_collection_id": "b8e97b9a-aeea-4f4a-bcf5-234018bdd232"
        },
        "ExecuteTime": {
          "end_time": "2023-12-09T21:29:36.078675+00:00",
          "start_time": "2023-12-09T21:29:35.924093+00:00"
        }
      },
      "execution_count": null,
      "source": "print('hrllo')",
      "outputs": []
    },
    {
      "id": "a2c56e92-d93e-4b8f-813d-6fc9f020aca0",
      "cell_type": "code",
      "metadata": {
        "jupyter": {
          "outputs_hidden": false,
          "source_hidden": false
        },
        "noteable": {
          "cell_type": "code"
        }
      },
      "execution_count": null,
      "source": "",
      "outputs": []
    }
  ]
}
{
  "nbformat": 4,
  "nbformat_minor": 5,
  "metadata": {
    "selected_hardware_size": "small",
    "kernel_info": {
      "name": "python3"
    },
    "kernelspec": {
      "display_name": "Python 3.9",
      "identifier": "legacy",
      "language": "python",
      "language_version": "3.9",
      "name": "python3"
    }
  },
  "cells": [
    {
      "id": "5a206115-3420-42a4-9de8-b9e8a6fe9811",
      "cell_type": "code",
      "metadata": {
        "noteable": {
          "assign_results_to": "sql_df_1",
          "cell_type": "sql",
          "db_connection": "@086f271403f94f338f5acce150cfab23",
          "output_collection_id": "303449b9-8929-45a5-aa84-4c19781325a3"
        },
        "ExecuteTime": {
          "end_time": "2023-12-09T22:53:22.364702+00:00",
          "start_time": "2023-12-09T22:53:20.553697+00:00"
        },
        "datalink": {
          "9482b2e4-0f33-4475-850f-fac02e85f7b7": {
            "applied_filters": [],
            "dataframe_info": {
              "default_index_used": true,
              "orig_num_cols": 3,
              "orig_num_rows": 1,
              "orig_size_bytes": 32,
              "truncated_num_cols": 3,
              "truncated_num_rows": 1,
              "truncated_size_bytes": 32,
              "truncated_string_columns": []
            },
            "display_id": "9482b2e4-0f33-4475-850f-fac02e85f7b7",
            "dx_settings": {
              "ALLOW_NOTEABLE_ATTRS": true,
              "COLUMN_SAMPLING_METHOD": "outer",
              "DB_LOCATION": ":memory:",
              "DEV_MODE": false,
              "DISPLAY_MAX_COLUMNS": 100,
              "DISPLAY_MAX_ROWS": 50000,
              "DISPLAY_MODE": "simple",
              "ENABLE_ASSIGNMENT": true,
              "ENABLE_DATALINK": true,
              "FLATTEN_COLUMN_VALUES": true,
              "FLATTEN_INDEX_VALUES": false,
              "GENERATE_DEX_METADATA": false,
              "HTML_TABLE_SCHEMA": false,
              "LOG_LEVEL": 30,
              "MAX_RENDER_SIZE_BYTES": 104857600,
              "MAX_STRING_LENGTH": 250,
              "NUM_PAST_SAMPLES_TRACKED": 3,
              "RANDOM_STATE": 12648430,
              "RESET_INDEX_VALUES": false,
              "ROW_SAMPLING_METHOD": "random",
              "SAMPLING_FACTOR": 0.1,
              "SAMPLING_METHOD": "random",
              "STRINGIFY_COLUMN_VALUES": true,
              "STRINGIFY_INDEX_VALUES": false
            },
            "sample_history": [],
            "sampling_time": "2023-12-09T22:53:22.199268",
            "user_variable_name": null,
            "variable_name": "unk_dataframe_9cb1d859f4e14f04a3c4cbac947e825e"
          }
        }
      },
      "execution_count": null,
      "source": "-- Execute this cell to return the list of tables\n-- and views within the default schema of this database\n-- (Use \\help to learn more options)\n\n\\list",
      "outputs": []
    }
  ]
}
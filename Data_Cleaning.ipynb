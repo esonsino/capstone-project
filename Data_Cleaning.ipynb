{
  "nbformat": 4,
  "nbformat_minor": 5,
  "metadata": {
    "selected_hardware_size": "small",
    "noteable": {
      "db_connection": "@noteable"
    },
    "kernel_info": {
      "name": "python3"
    },
    "kernelspec": {
      "display_name": "Python 3.9",
      "identifier": "legacy",
      "language": "python",
      "language_version": "3.9",
      "name": "python3"
    }
  },
  "cells": [
    {
      "id": "752b82cc-a2c6-4599-8c04-f0b7c23077aa",
      "cell_type": "code",
      "metadata": {
        "noteable": {
          "assign_results_to": "sql_df_2",
          "cell_type": "sql",
          "db_connection": "@noteable"
        }
      },
      "execution_count": null,
      "source": "SELECT * FROM data_n",
      "outputs": []
    }
  ]
}
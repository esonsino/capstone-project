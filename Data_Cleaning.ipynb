{
  "nbformat": 4,
  "nbformat_minor": 5,
  "metadata": {
    "selected_hardware_size": "small",
    "noteable": {
      "db_connection": "@086f271403f94f338f5acce150cfab23"
    },
    "kernel_info": {
      "name": "python3"
    },
    "kernelspec": {
      "display_name": "Python 3.9",
      "identifier": "legacy",
      "language": "python",
      "language_version": "3.9",
      "name": "python3"
    }
  },
  "cells": [
    {
      "id": "fa81709b-e70b-4c9e-8151-e4f817252533",
      "cell_type": "code",
      "metadata": {
        "noteable": {
          "assign_results_to": "sql_df_3",
          "cell_type": "sql",
          "db_connection": "@086f271403f94f338f5acce150cfab23",
          "output_collection_id": null
        },
        "ExecuteTime": null
      },
      "execution_count": null,
      "source": "SELECT * FROM data_nerd_jobs",
      "outputs": []
    }
  ]
}